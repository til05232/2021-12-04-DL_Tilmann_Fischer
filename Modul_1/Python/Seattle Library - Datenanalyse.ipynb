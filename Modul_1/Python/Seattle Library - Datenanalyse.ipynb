{
 "cells": [
  {
   "cell_type": "code",
   "execution_count": 2,
   "id": "5b375e6f",
   "metadata": {},
   "outputs": [],
   "source": [
    "import urllib.request\n",
    "import pandas as pd"
   ]
  },
  {
   "cell_type": "markdown",
   "id": "137b3133",
   "metadata": {},
   "source": [
    "Daten aus URL beziehen"
   ]
  },
  {
   "cell_type": "code",
   "execution_count": 5,
   "id": "4bc537d4",
   "metadata": {},
   "outputs": [
    {
     "data": {
      "text/plain": [
       "('checkout.csv', <http.client.HTTPMessage at 0x7f97600e9700>)"
      ]
     },
     "execution_count": 5,
     "metadata": {},
     "output_type": "execute_result"
    }
   ],
   "source": [
    "url = \"https://data.seattle.gov/resource/tmmm-ytt6.csv?$where=checkoutyear=2018&$limit=10000\"\n",
    "checkout_file =\"checkout.csv\"\n",
    "urllib.request.urlretrieve(url, checkout_file)"
   ]
  },
  {
   "cell_type": "markdown",
   "id": "f7e194b3",
   "metadata": {},
   "source": [
    "DataFrame laden"
   ]
  },
  {
   "cell_type": "code",
   "execution_count": 7,
   "id": "84b927b8",
   "metadata": {},
   "outputs": [],
   "source": [
    "checkouts_df = pd.read_csv(checkout_file)"
   ]
  },
  {
   "cell_type": "code",
   "execution_count": 8,
   "id": "61ca03be",
   "metadata": {},
   "outputs": [
    {
     "data": {
      "text/html": [
       "<div>\n",
       "<style scoped>\n",
       "    .dataframe tbody tr th:only-of-type {\n",
       "        vertical-align: middle;\n",
       "    }\n",
       "\n",
       "    .dataframe tbody tr th {\n",
       "        vertical-align: top;\n",
       "    }\n",
       "\n",
       "    .dataframe thead th {\n",
       "        text-align: right;\n",
       "    }\n",
       "</style>\n",
       "<table border=\"1\" class=\"dataframe\">\n",
       "  <thead>\n",
       "    <tr style=\"text-align: right;\">\n",
       "      <th></th>\n",
       "      <th>usageclass</th>\n",
       "      <th>checkouttype</th>\n",
       "      <th>materialtype</th>\n",
       "      <th>checkoutyear</th>\n",
       "      <th>checkoutmonth</th>\n",
       "      <th>checkouts</th>\n",
       "      <th>title</th>\n",
       "      <th>creator</th>\n",
       "      <th>subjects</th>\n",
       "      <th>publisher</th>\n",
       "      <th>publicationyear</th>\n",
       "    </tr>\n",
       "  </thead>\n",
       "  <tbody>\n",
       "    <tr>\n",
       "      <th>0</th>\n",
       "      <td>Digital</td>\n",
       "      <td>OverDrive</td>\n",
       "      <td>EBOOK</td>\n",
       "      <td>2018</td>\n",
       "      <td>1</td>\n",
       "      <td>22</td>\n",
       "      <td>Enemy of the State</td>\n",
       "      <td>Vince Flynn</td>\n",
       "      <td>Fiction, Literature, Thriller</td>\n",
       "      <td>Simon &amp; Schuster, Inc.</td>\n",
       "      <td>2017</td>\n",
       "    </tr>\n",
       "    <tr>\n",
       "      <th>1</th>\n",
       "      <td>Digital</td>\n",
       "      <td>Hoopla</td>\n",
       "      <td>TELEVISION</td>\n",
       "      <td>2018</td>\n",
       "      <td>1</td>\n",
       "      <td>1</td>\n",
       "      <td>Newspaper Mom / Cucumber in Rio / Donut Raffle</td>\n",
       "      <td>NaN</td>\n",
       "      <td>Children's</td>\n",
       "      <td>DHX Media</td>\n",
       "      <td>NaN</td>\n",
       "    </tr>\n",
       "    <tr>\n",
       "      <th>2</th>\n",
       "      <td>Physical</td>\n",
       "      <td>Horizon</td>\n",
       "      <td>SOUNDDISC</td>\n",
       "      <td>2018</td>\n",
       "      <td>1</td>\n",
       "      <td>1</td>\n",
       "      <td>Mono / the Mavericks.</td>\n",
       "      <td>Mavericks (Musical group)</td>\n",
       "      <td>Country music 2011 2020</td>\n",
       "      <td>Valory,</td>\n",
       "      <td>[2015]</td>\n",
       "    </tr>\n",
       "    <tr>\n",
       "      <th>3</th>\n",
       "      <td>Digital</td>\n",
       "      <td>OverDrive</td>\n",
       "      <td>EBOOK</td>\n",
       "      <td>2018</td>\n",
       "      <td>1</td>\n",
       "      <td>2</td>\n",
       "      <td>Anna Karenina</td>\n",
       "      <td>Leo Tolstoy</td>\n",
       "      <td>Classic Literature, Fiction, Literature</td>\n",
       "      <td>Penguin Group (USA), Inc.</td>\n",
       "      <td>2009</td>\n",
       "    </tr>\n",
       "    <tr>\n",
       "      <th>4</th>\n",
       "      <td>Digital</td>\n",
       "      <td>OverDrive</td>\n",
       "      <td>EBOOK</td>\n",
       "      <td>2018</td>\n",
       "      <td>1</td>\n",
       "      <td>1</td>\n",
       "      <td>Dragon: Vlad Series, Book 8</td>\n",
       "      <td>Steven Brust</td>\n",
       "      <td>Fantasy, Fiction</td>\n",
       "      <td>Macmillan Publishers</td>\n",
       "      <td>2015</td>\n",
       "    </tr>\n",
       "    <tr>\n",
       "      <th>...</th>\n",
       "      <td>...</td>\n",
       "      <td>...</td>\n",
       "      <td>...</td>\n",
       "      <td>...</td>\n",
       "      <td>...</td>\n",
       "      <td>...</td>\n",
       "      <td>...</td>\n",
       "      <td>...</td>\n",
       "      <td>...</td>\n",
       "      <td>...</td>\n",
       "      <td>...</td>\n",
       "    </tr>\n",
       "    <tr>\n",
       "      <th>9995</th>\n",
       "      <td>Digital</td>\n",
       "      <td>OverDrive</td>\n",
       "      <td>AUDIOBOOK</td>\n",
       "      <td>2018</td>\n",
       "      <td>1</td>\n",
       "      <td>1</td>\n",
       "      <td>Cooking for Picasso: A Novel (unabridged) (Una...</td>\n",
       "      <td>Camille Aubray</td>\n",
       "      <td>Fiction, Historical Fiction, Literature</td>\n",
       "      <td>Books on Tape</td>\n",
       "      <td>2016</td>\n",
       "    </tr>\n",
       "    <tr>\n",
       "      <th>9996</th>\n",
       "      <td>Digital</td>\n",
       "      <td>OverDrive</td>\n",
       "      <td>EBOOK</td>\n",
       "      <td>2018</td>\n",
       "      <td>1</td>\n",
       "      <td>1</td>\n",
       "      <td>The Book of Summer: A Novel</td>\n",
       "      <td>Michelle Gable</td>\n",
       "      <td>Fiction, Historical Fiction, Literature</td>\n",
       "      <td>Macmillan Publishers</td>\n",
       "      <td>2017</td>\n",
       "    </tr>\n",
       "    <tr>\n",
       "      <th>9997</th>\n",
       "      <td>Physical</td>\n",
       "      <td>Horizon</td>\n",
       "      <td>BOOK</td>\n",
       "      <td>2018</td>\n",
       "      <td>1</td>\n",
       "      <td>1</td>\n",
       "      <td>Revival / Stephen King.</td>\n",
       "      <td>King, Stephen, 1947-</td>\n",
       "      <td>Drug addicts Fiction, Clergy Fiction, Rock mus...</td>\n",
       "      <td>Thorndike Press,</td>\n",
       "      <td>2014.</td>\n",
       "    </tr>\n",
       "    <tr>\n",
       "      <th>9998</th>\n",
       "      <td>Physical</td>\n",
       "      <td>Horizon</td>\n",
       "      <td>BOOK</td>\n",
       "      <td>2018</td>\n",
       "      <td>1</td>\n",
       "      <td>4</td>\n",
       "      <td>Loula is leaving for Africa / written and illu...</td>\n",
       "      <td>Villeneuve, Anne, 1966-</td>\n",
       "      <td>Imagination Juvenile fiction, Chauffeurs Juven...</td>\n",
       "      <td>Kids Can Press,</td>\n",
       "      <td>[2013]</td>\n",
       "    </tr>\n",
       "    <tr>\n",
       "      <th>9999</th>\n",
       "      <td>Digital</td>\n",
       "      <td>OverDrive</td>\n",
       "      <td>AUDIOBOOK</td>\n",
       "      <td>2018</td>\n",
       "      <td>1</td>\n",
       "      <td>1</td>\n",
       "      <td>The Story About Ping (Unabridged)</td>\n",
       "      <td>Marjorie Flack</td>\n",
       "      <td>Juvenile Fiction</td>\n",
       "      <td>Weston Woods Studios Inc., a subsidiary of Sch...</td>\n",
       "      <td>2012</td>\n",
       "    </tr>\n",
       "  </tbody>\n",
       "</table>\n",
       "<p>10000 rows × 11 columns</p>\n",
       "</div>"
      ],
      "text/plain": [
       "     usageclass checkouttype materialtype  checkoutyear  checkoutmonth  \\\n",
       "0       Digital    OverDrive        EBOOK          2018              1   \n",
       "1       Digital       Hoopla   TELEVISION          2018              1   \n",
       "2      Physical      Horizon    SOUNDDISC          2018              1   \n",
       "3       Digital    OverDrive        EBOOK          2018              1   \n",
       "4       Digital    OverDrive        EBOOK          2018              1   \n",
       "...         ...          ...          ...           ...            ...   \n",
       "9995    Digital    OverDrive    AUDIOBOOK          2018              1   \n",
       "9996    Digital    OverDrive        EBOOK          2018              1   \n",
       "9997   Physical      Horizon         BOOK          2018              1   \n",
       "9998   Physical      Horizon         BOOK          2018              1   \n",
       "9999    Digital    OverDrive    AUDIOBOOK          2018              1   \n",
       "\n",
       "      checkouts                                              title  \\\n",
       "0            22                                 Enemy of the State   \n",
       "1             1     Newspaper Mom / Cucumber in Rio / Donut Raffle   \n",
       "2             1                              Mono / the Mavericks.   \n",
       "3             2                                      Anna Karenina   \n",
       "4             1                        Dragon: Vlad Series, Book 8   \n",
       "...         ...                                                ...   \n",
       "9995          1  Cooking for Picasso: A Novel (unabridged) (Una...   \n",
       "9996          1                        The Book of Summer: A Novel   \n",
       "9997          1                            Revival / Stephen King.   \n",
       "9998          4  Loula is leaving for Africa / written and illu...   \n",
       "9999          1                  The Story About Ping (Unabridged)   \n",
       "\n",
       "                        creator  \\\n",
       "0                   Vince Flynn   \n",
       "1                           NaN   \n",
       "2     Mavericks (Musical group)   \n",
       "3                   Leo Tolstoy   \n",
       "4                  Steven Brust   \n",
       "...                         ...   \n",
       "9995             Camille Aubray   \n",
       "9996             Michelle Gable   \n",
       "9997       King, Stephen, 1947-   \n",
       "9998    Villeneuve, Anne, 1966-   \n",
       "9999             Marjorie Flack   \n",
       "\n",
       "                                               subjects  \\\n",
       "0                         Fiction, Literature, Thriller   \n",
       "1                                            Children's   \n",
       "2                               Country music 2011 2020   \n",
       "3               Classic Literature, Fiction, Literature   \n",
       "4                                      Fantasy, Fiction   \n",
       "...                                                 ...   \n",
       "9995            Fiction, Historical Fiction, Literature   \n",
       "9996            Fiction, Historical Fiction, Literature   \n",
       "9997  Drug addicts Fiction, Clergy Fiction, Rock mus...   \n",
       "9998  Imagination Juvenile fiction, Chauffeurs Juven...   \n",
       "9999                                   Juvenile Fiction   \n",
       "\n",
       "                                              publisher publicationyear  \n",
       "0                                Simon & Schuster, Inc.            2017  \n",
       "1                                             DHX Media             NaN  \n",
       "2                                               Valory,          [2015]  \n",
       "3                             Penguin Group (USA), Inc.            2009  \n",
       "4                                  Macmillan Publishers            2015  \n",
       "...                                                 ...             ...  \n",
       "9995                                      Books on Tape            2016  \n",
       "9996                               Macmillan Publishers            2017  \n",
       "9997                                   Thorndike Press,           2014.  \n",
       "9998                                    Kids Can Press,          [2013]  \n",
       "9999  Weston Woods Studios Inc., a subsidiary of Sch...            2012  \n",
       "\n",
       "[10000 rows x 11 columns]"
      ]
     },
     "execution_count": 8,
     "metadata": {},
     "output_type": "execute_result"
    }
   ],
   "source": [
    "# Anzeigen des Inhaltes der Datenbank\n",
    "checkouts_df"
   ]
  },
  {
   "cell_type": "code",
   "execution_count": 23,
   "id": "27a7b290",
   "metadata": {},
   "outputs": [
    {
     "data": {
      "text/plain": [
       "array(['EBOOK', 'TELEVISION', 'SOUNDDISC', 'BOOK', 'AUDIOBOOK', 'COMIC',\n",
       "       'MOVIE', 'SONG', 'MUSIC', 'MAGAZINE', 'VIDEODISC', 'SOUNDREC',\n",
       "       'SOUNDDISC, VIDEODISC', 'CR', 'LARGEPRINT', 'ER, SOUNDDISC',\n",
       "       'ATLAS', 'ER', 'MAP', 'VIDEOCASS, VIDEODISC', 'REGPRINT', 'VIDEO',\n",
       "       'SOUNDCASS', 'ER, VIDEODISC'], dtype=object)"
      ]
     },
     "execution_count": 23,
     "metadata": {},
     "output_type": "execute_result"
    }
   ],
   "source": [
    "# Welche Medientypen sind vorhanden?\n",
    "checkouts_df[\"materialtype\"].unique()"
   ]
  },
  {
   "cell_type": "code",
   "execution_count": 24,
   "id": "ac44d002",
   "metadata": {},
   "outputs": [
    {
     "data": {
      "text/html": [
       "<div>\n",
       "<style scoped>\n",
       "    .dataframe tbody tr th:only-of-type {\n",
       "        vertical-align: middle;\n",
       "    }\n",
       "\n",
       "    .dataframe tbody tr th {\n",
       "        vertical-align: top;\n",
       "    }\n",
       "\n",
       "    .dataframe thead th {\n",
       "        text-align: right;\n",
       "    }\n",
       "</style>\n",
       "<table border=\"1\" class=\"dataframe\">\n",
       "  <thead>\n",
       "    <tr style=\"text-align: right;\">\n",
       "      <th></th>\n",
       "      <th>usageclass</th>\n",
       "      <th>checkouttype</th>\n",
       "      <th>materialtype</th>\n",
       "      <th>checkoutyear</th>\n",
       "      <th>checkoutmonth</th>\n",
       "      <th>checkouts</th>\n",
       "      <th>title</th>\n",
       "      <th>creator</th>\n",
       "      <th>subjects</th>\n",
       "      <th>publisher</th>\n",
       "      <th>publicationyear</th>\n",
       "    </tr>\n",
       "  </thead>\n",
       "  <tbody>\n",
       "    <tr>\n",
       "      <th>0</th>\n",
       "      <td>Digital</td>\n",
       "      <td>OverDrive</td>\n",
       "      <td>EBOOK</td>\n",
       "      <td>2018</td>\n",
       "      <td>1</td>\n",
       "      <td>22</td>\n",
       "      <td>Enemy of the State</td>\n",
       "      <td>Vince Flynn</td>\n",
       "      <td>Fiction, Literature, Thriller</td>\n",
       "      <td>Simon &amp; Schuster, Inc.</td>\n",
       "      <td>2017</td>\n",
       "    </tr>\n",
       "    <tr>\n",
       "      <th>3</th>\n",
       "      <td>Digital</td>\n",
       "      <td>OverDrive</td>\n",
       "      <td>EBOOK</td>\n",
       "      <td>2018</td>\n",
       "      <td>1</td>\n",
       "      <td>2</td>\n",
       "      <td>Anna Karenina</td>\n",
       "      <td>Leo Tolstoy</td>\n",
       "      <td>Classic Literature, Fiction, Literature</td>\n",
       "      <td>Penguin Group (USA), Inc.</td>\n",
       "      <td>2009</td>\n",
       "    </tr>\n",
       "    <tr>\n",
       "      <th>4</th>\n",
       "      <td>Digital</td>\n",
       "      <td>OverDrive</td>\n",
       "      <td>EBOOK</td>\n",
       "      <td>2018</td>\n",
       "      <td>1</td>\n",
       "      <td>1</td>\n",
       "      <td>Dragon: Vlad Series, Book 8</td>\n",
       "      <td>Steven Brust</td>\n",
       "      <td>Fantasy, Fiction</td>\n",
       "      <td>Macmillan Publishers</td>\n",
       "      <td>2015</td>\n",
       "    </tr>\n",
       "    <tr>\n",
       "      <th>5</th>\n",
       "      <td>Digital</td>\n",
       "      <td>OverDrive</td>\n",
       "      <td>EBOOK</td>\n",
       "      <td>2018</td>\n",
       "      <td>1</td>\n",
       "      <td>1</td>\n",
       "      <td>Little Dorrit</td>\n",
       "      <td>Charles Dickens</td>\n",
       "      <td>Classic Literature, Fiction, Literature</td>\n",
       "      <td>Random House, Inc.</td>\n",
       "      <td>2012</td>\n",
       "    </tr>\n",
       "    <tr>\n",
       "      <th>6</th>\n",
       "      <td>Digital</td>\n",
       "      <td>OverDrive</td>\n",
       "      <td>EBOOK</td>\n",
       "      <td>2018</td>\n",
       "      <td>1</td>\n",
       "      <td>2</td>\n",
       "      <td>The Inside Out Man</td>\n",
       "      <td>Fred Strydom</td>\n",
       "      <td>Fiction, Horror, Suspense, Thriller</td>\n",
       "      <td>Lightning Source Inc</td>\n",
       "      <td>2017</td>\n",
       "    </tr>\n",
       "    <tr>\n",
       "      <th>...</th>\n",
       "      <td>...</td>\n",
       "      <td>...</td>\n",
       "      <td>...</td>\n",
       "      <td>...</td>\n",
       "      <td>...</td>\n",
       "      <td>...</td>\n",
       "      <td>...</td>\n",
       "      <td>...</td>\n",
       "      <td>...</td>\n",
       "      <td>...</td>\n",
       "      <td>...</td>\n",
       "    </tr>\n",
       "    <tr>\n",
       "      <th>9985</th>\n",
       "      <td>Digital</td>\n",
       "      <td>OverDrive</td>\n",
       "      <td>EBOOK</td>\n",
       "      <td>2018</td>\n",
       "      <td>1</td>\n",
       "      <td>2</td>\n",
       "      <td>Molly's Story: Dog's Purpose Series, Book 5</td>\n",
       "      <td>W. Bruce Cameron</td>\n",
       "      <td>Juvenile Fiction, Juvenile Literature</td>\n",
       "      <td>Macmillan Publishers</td>\n",
       "      <td>2017</td>\n",
       "    </tr>\n",
       "    <tr>\n",
       "      <th>9986</th>\n",
       "      <td>Digital</td>\n",
       "      <td>OverDrive</td>\n",
       "      <td>EBOOK</td>\n",
       "      <td>2018</td>\n",
       "      <td>1</td>\n",
       "      <td>1</td>\n",
       "      <td>Palladian Days: Finding a New Life in a Veneti...</td>\n",
       "      <td>Sally Gable</td>\n",
       "      <td>Architecture, Biography &amp; Autobiography, Nonfi...</td>\n",
       "      <td>Random House, Inc.</td>\n",
       "      <td>2009</td>\n",
       "    </tr>\n",
       "    <tr>\n",
       "      <th>9989</th>\n",
       "      <td>Digital</td>\n",
       "      <td>OverDrive</td>\n",
       "      <td>EBOOK</td>\n",
       "      <td>2018</td>\n",
       "      <td>1</td>\n",
       "      <td>1</td>\n",
       "      <td>Face to Face: Amazing New Looks and Inspiratio...</td>\n",
       "      <td>Scott Barnes</td>\n",
       "      <td>Health &amp; Fitness, Nonfiction</td>\n",
       "      <td>Quarto Publishing Group USA</td>\n",
       "      <td>2012</td>\n",
       "    </tr>\n",
       "    <tr>\n",
       "      <th>9994</th>\n",
       "      <td>Digital</td>\n",
       "      <td>OverDrive</td>\n",
       "      <td>EBOOK</td>\n",
       "      <td>2018</td>\n",
       "      <td>1</td>\n",
       "      <td>1</td>\n",
       "      <td>This Is How It Happened</td>\n",
       "      <td>Paula Stokes</td>\n",
       "      <td>Romance, Young Adult Fiction, Young Adult Lite...</td>\n",
       "      <td>HarperCollins Publishers Inc.</td>\n",
       "      <td>2017</td>\n",
       "    </tr>\n",
       "    <tr>\n",
       "      <th>9996</th>\n",
       "      <td>Digital</td>\n",
       "      <td>OverDrive</td>\n",
       "      <td>EBOOK</td>\n",
       "      <td>2018</td>\n",
       "      <td>1</td>\n",
       "      <td>1</td>\n",
       "      <td>The Book of Summer: A Novel</td>\n",
       "      <td>Michelle Gable</td>\n",
       "      <td>Fiction, Historical Fiction, Literature</td>\n",
       "      <td>Macmillan Publishers</td>\n",
       "      <td>2017</td>\n",
       "    </tr>\n",
       "  </tbody>\n",
       "</table>\n",
       "<p>2088 rows × 11 columns</p>\n",
       "</div>"
      ],
      "text/plain": [
       "     usageclass checkouttype materialtype  checkoutyear  checkoutmonth  \\\n",
       "0       Digital    OverDrive        EBOOK          2018              1   \n",
       "3       Digital    OverDrive        EBOOK          2018              1   \n",
       "4       Digital    OverDrive        EBOOK          2018              1   \n",
       "5       Digital    OverDrive        EBOOK          2018              1   \n",
       "6       Digital    OverDrive        EBOOK          2018              1   \n",
       "...         ...          ...          ...           ...            ...   \n",
       "9985    Digital    OverDrive        EBOOK          2018              1   \n",
       "9986    Digital    OverDrive        EBOOK          2018              1   \n",
       "9989    Digital    OverDrive        EBOOK          2018              1   \n",
       "9994    Digital    OverDrive        EBOOK          2018              1   \n",
       "9996    Digital    OverDrive        EBOOK          2018              1   \n",
       "\n",
       "      checkouts                                              title  \\\n",
       "0            22                                 Enemy of the State   \n",
       "3             2                                      Anna Karenina   \n",
       "4             1                        Dragon: Vlad Series, Book 8   \n",
       "5             1                                      Little Dorrit   \n",
       "6             2                                 The Inside Out Man   \n",
       "...         ...                                                ...   \n",
       "9985          2        Molly's Story: Dog's Purpose Series, Book 5   \n",
       "9986          1  Palladian Days: Finding a New Life in a Veneti...   \n",
       "9989          1  Face to Face: Amazing New Looks and Inspiratio...   \n",
       "9994          1                            This Is How It Happened   \n",
       "9996          1                        The Book of Summer: A Novel   \n",
       "\n",
       "               creator                                           subjects  \\\n",
       "0          Vince Flynn                      Fiction, Literature, Thriller   \n",
       "3          Leo Tolstoy            Classic Literature, Fiction, Literature   \n",
       "4         Steven Brust                                   Fantasy, Fiction   \n",
       "5      Charles Dickens            Classic Literature, Fiction, Literature   \n",
       "6         Fred Strydom                Fiction, Horror, Suspense, Thriller   \n",
       "...                ...                                                ...   \n",
       "9985  W. Bruce Cameron              Juvenile Fiction, Juvenile Literature   \n",
       "9986       Sally Gable  Architecture, Biography & Autobiography, Nonfi...   \n",
       "9989      Scott Barnes                       Health & Fitness, Nonfiction   \n",
       "9994      Paula Stokes  Romance, Young Adult Fiction, Young Adult Lite...   \n",
       "9996    Michelle Gable            Fiction, Historical Fiction, Literature   \n",
       "\n",
       "                          publisher publicationyear  \n",
       "0            Simon & Schuster, Inc.            2017  \n",
       "3         Penguin Group (USA), Inc.            2009  \n",
       "4              Macmillan Publishers            2015  \n",
       "5                Random House, Inc.            2012  \n",
       "6              Lightning Source Inc            2017  \n",
       "...                             ...             ...  \n",
       "9985           Macmillan Publishers            2017  \n",
       "9986             Random House, Inc.            2009  \n",
       "9989    Quarto Publishing Group USA            2012  \n",
       "9994  HarperCollins Publishers Inc.            2017  \n",
       "9996           Macmillan Publishers            2017  \n",
       "\n",
       "[2088 rows x 11 columns]"
      ]
     },
     "execution_count": 24,
     "metadata": {},
     "output_type": "execute_result"
    }
   ],
   "source": [
    "# Darstellung nur Ebooks\n",
    "checkouts_df[checkouts_df[\"materialtype\"] == \"EBOOK\"]"
   ]
  },
  {
   "cell_type": "markdown",
   "id": "cc26f40f",
   "metadata": {},
   "source": [
    "Frage 1: Wie viele Ebooks im gesamten Zeitverlauf? Diagramm: Ebooks / pro Jahr"
   ]
  },
  {
   "cell_type": "code",
   "execution_count": 95,
   "id": "011df315",
   "metadata": {},
   "outputs": [
    {
     "data": {
      "text/plain": [
       "array([2018])"
      ]
     },
     "execution_count": 95,
     "metadata": {},
     "output_type": "execute_result"
    }
   ],
   "source": [
    "# Stand der Anzahl von Ebooks im Jahr 2018: 2088\n",
    "# Ausweitung Zeitraum\n",
    "checkouts_df[\"checkoutyear\"].unique()"
   ]
  },
  {
   "cell_type": "code",
   "execution_count": 96,
   "id": "391ca586",
   "metadata": {},
   "outputs": [
    {
     "data": {
      "text/plain": [
       "540"
      ]
     },
     "execution_count": 96,
     "metadata": {},
     "output_type": "execute_result"
    }
   ],
   "source": [
    "checkouts_df[\"checkouts\"].max()"
   ]
  },
  {
   "cell_type": "code",
   "execution_count": 97,
   "id": "af9e8094",
   "metadata": {},
   "outputs": [
    {
     "data": {
      "text/plain": [
       "1"
      ]
     },
     "execution_count": 97,
     "metadata": {},
     "output_type": "execute_result"
    }
   ],
   "source": [
    "checkouts_df[\"checkouts\"].min()"
   ]
  },
  {
   "cell_type": "code",
   "execution_count": 98,
   "id": "bb42e06e",
   "metadata": {},
   "outputs": [
    {
     "data": {
      "text/plain": [
       "1.0"
      ]
     },
     "execution_count": 98,
     "metadata": {},
     "output_type": "execute_result"
    }
   ],
   "source": [
    "checkouts_df[\"checkouts\"].median()"
   ]
  },
  {
   "cell_type": "code",
   "execution_count": 99,
   "id": "9f3dd53a",
   "metadata": {},
   "outputs": [
    {
     "data": {
      "text/plain": [
       "3.339"
      ]
     },
     "execution_count": 99,
     "metadata": {},
     "output_type": "execute_result"
    }
   ],
   "source": [
    "checkouts_df[\"checkouts\"].mean()"
   ]
  },
  {
   "cell_type": "code",
   "execution_count": 94,
   "id": "88f683ec",
   "metadata": {},
   "outputs": [
    {
     "data": {
      "text/plain": [
       "array(['Digital', 'Physical'], dtype=object)"
      ]
     },
     "execution_count": 94,
     "metadata": {},
     "output_type": "execute_result"
    }
   ],
   "source": [
    "checkouts_df[\"usageclass\"].unique()"
   ]
  },
  {
   "cell_type": "markdown",
   "id": "cf52d370",
   "metadata": {},
   "source": [
    "Frage 2: Welche Publikationsjahre existieren für Ebooks insgesamt? "
   ]
  },
  {
   "cell_type": "code",
   "execution_count": 83,
   "id": "292051fd",
   "metadata": {},
   "outputs": [
    {
     "data": {
      "text/plain": [
       "array(['2017', nan, '[2015]', '2009', '2015', '2012', '2000.', '2013',\n",
       "       '2008', '2018', '2014', '2016', '[1985]', '[2004]', '2017.',\n",
       "       '2010', '2012.', '[2011]', '[1990]', '2015.', '2016.', 'p2013.',\n",
       "       '2006', '[2013]', '[1998]', '[2018]', '1944.', '[2010]', '2011.',\n",
       "       '2003.', '1992.', '2006.', '[2016]', '2007', '2013.', 'p2014.',\n",
       "       '2011', '1988.', '1994.', '[1986]', '2010.', '2002.', '[2017]',\n",
       "       '[2001?]', '[2014]', '[1985], ℗1977.', '1997.', '[2000, c2001]',\n",
       "       '[2007]', '2009.', '[1987]', '2007.', '2014.', '1985, ©1984.',\n",
       "       '[2008]', '1989.', '[2000]', '1983.', '[2009]', '[2012]', '[1994]',\n",
       "       '2008.', '[2010], ©1996.', '[2006]', '1999.', '[2017].', '[2000?]',\n",
       "       '[2001]', '2016, [c2015]', '2005', '[1990?]', '1972.', 'c2015.',\n",
       "       '[1999]', 'c2013.', '[2005]', '2005.', 'c2017.', '1985.', '[1956]',\n",
       "       '[2003]', '[2002]', '[between 1970-1979?]', '[2013].', '1998.',\n",
       "       '[2009], 2002.', '[1997]', '1995.', '2001.', 'c2007, 2008.',\n",
       "       '[2016?]', '2004.', '[1979]', 'c2014.', '[2016].', 'c2016.',\n",
       "       '[1995]', '[1964]', '[1988]', '1996.', '[1991]', '©2014.',\n",
       "       '℗2017.', '2004, 2001.', '[2007?]', '[2014?]', '[1996]', '1993.',\n",
       "       'c1955-1976.', '[1961]', '[1983]', '1928.', '[2007, 1977]',\n",
       "       '[2016], c2015.', '[1974]', '[1992]', 'c2000-', '[2015?]', '1990.',\n",
       "       '1991.', '©2017.', '1970.', '[1985?]', '[2014].', '1976.', 'c2014',\n",
       "       '[1976]', '[1989]', '2015].', '1937.', '1997, 1977.',\n",
       "       '[2015], c2014.', '2018.', '1969.', '[between 1990-1999?], c1965.',\n",
       "       '[between 1980 and 1986]', '[2011?]', '[2008, c2007]',\n",
       "       '[2001, p1980]', '[1993]', '[2002, 2003]', '[1929]', '©2013.',\n",
       "       '[1924]', '2016, c2015.', '[1978]', '1966.', '[2015, p1975]',\n",
       "       '[1928, renewed 1956]', '[1984]-c1987.', '[1969]', '2015, c2014.',\n",
       "       '[2006, p2004]', '[1965-71]', 'c2018.', '[2013?]',\n",
       "       '[between 1990-1999?]', '[1941]', '1961.', '1977-',\n",
       "       '[2008, p1975]', 'c1989-<c1994 >', 'c1985-', '1964.', 'c1976-',\n",
       "       'Min guo 80 [1991]', '[1991, c1975]', 'c1996-', '[2004, c1993]',\n",
       "       '[1982]', '[1957]', '1960.', 'November 2014.', 'June 2014.',\n",
       "       '[2009?]', '[1983?]', '[2001, p1976]', '1954.',\n",
       "       '[between 1980-1989], p1978.', '[1953]', '[between 1980-1989]',\n",
       "       '2012 London Toronto Sydney.', '©2016.', 'p[1989]', '2000, ©1976.',\n",
       "       '[2007], 1999.', '[2014, 1991]', 'cp2010.', '[1965]', '1986.',\n",
       "       '1982.', '[1972]', '1968.', '[2003, p2005]', '1951.', '1939.',\n",
       "       '[1960]', '[2003, p1975]', 'Min guo 81 [1992]', '[1973]', '[1981]',\n",
       "       '[1971]', '[1962]', 'D.L. 2015.', '1911.', '[1968]', '1974.',\n",
       "       '1940.', '[1963]', '[1980]', '[2018].', '21 cm.', '[1984]',\n",
       "       '[2015].', '[2003, 1980]', 'D.L. 2012.', '℗2009.',\n",
       "       'Shōwa 62 [1987]', '[1994, p1993]', '[2010?]', '[2004, 2005]',\n",
       "       '[2009, p1997]', '[2005, p1990]', '[1970]', '©2015.', '[1991].',\n",
       "       '[2008?]', '1935.', '[1832]', '[2014], c2013.', '1921.', '℗1995.',\n",
       "       '[1977]', '[1959]', '1999, ©1998.', '1973.', '[2007], ©2003.',\n",
       "       '[2010, p1992]', '[1966]', '[between 2000-2009?]', 'c2007.',\n",
       "       '[1999?]', '1888.', '©2016', '[1988], p1975]',\n",
       "       '[between 1980-1989?], c1964.', '2013, c2012.', '2006, ©2004.',\n",
       "       '©2017', '1984.', '[2009, p1996]', 'c2003.', '©2006.', '1965.',\n",
       "       '2000, 1998.', '1926.', '©2011.', '1956.', '1963.', '1910.',\n",
       "       '[1998, p1973]', '[2000, p1970]', '©2012.', '1958.', '©2008.'],\n",
       "      dtype=object)"
      ]
     },
     "execution_count": 83,
     "metadata": {},
     "output_type": "execute_result"
    }
   ],
   "source": [
    "# Anzeige aller Publikationsjahre für Ebooks\n",
    "checkouts_df[\"publicationyear\"].unique()"
   ]
  },
  {
   "cell_type": "code",
   "execution_count": 84,
   "id": "582e2c4d",
   "metadata": {},
   "outputs": [
    {
     "data": {
      "text/plain": [
       "2017              479\n",
       "[2017]            418\n",
       "2013              416\n",
       "2014              343\n",
       "[2016]            324\n",
       "                 ... \n",
       "c1976-              1\n",
       "1964.               1\n",
       "c1985-              1\n",
       "c1989-<c1994 >      1\n",
       "©2008.              1\n",
       "Name: publicationyear, Length: 264, dtype: int64"
      ]
     },
     "execution_count": 84,
     "metadata": {},
     "output_type": "execute_result"
    }
   ],
   "source": [
    "# Anzahl Ebooks pro Publikationsjahr\n",
    "checkouts_df[\"publicationyear\"].value_counts()\n",
    "# Diagramm erzeugen Publikationsjahr / Anzahl Ebooks"
   ]
  }
 ],
 "metadata": {
  "kernelspec": {
   "display_name": "Python 3 (ipykernel)",
   "language": "python",
   "name": "python3"
  },
  "language_info": {
   "codemirror_mode": {
    "name": "ipython",
    "version": 3
   },
   "file_extension": ".py",
   "mimetype": "text/x-python",
   "name": "python",
   "nbconvert_exporter": "python",
   "pygments_lexer": "ipython3",
   "version": "3.9.7"
  }
 },
 "nbformat": 4,
 "nbformat_minor": 5
}
