{
 "cells": [
  {
   "cell_type": "code",
   "execution_count": 10,
   "id": "1378fdb9",
   "metadata": {},
   "outputs": [],
   "source": [
    "import urllib.request\n",
    "import pandas as pd"
   ]
  },
  {
   "cell_type": "code",
   "execution_count": 11,
   "id": "7394bbae",
   "metadata": {},
   "outputs": [
    {
     "data": {
      "text/plain": [
       "('checkout.csv', <http.client.HTTPMessage at 0x7f86245a38e0>)"
      ]
     },
     "execution_count": 11,
     "metadata": {},
     "output_type": "execute_result"
    }
   ],
   "source": [
    "url = \"https://data.seattle.gov/resource/tmmm-ytt6.csv?$where=checkoutyear=2018&$limit=10000\"\n",
    "checkout_file = \"checkout.csv\"\n",
    "urllib.request.urlretrieve(url, checkout_file)"
   ]
  },
  {
   "cell_type": "code",
   "execution_count": 12,
   "id": "994a2a6e",
   "metadata": {},
   "outputs": [],
   "source": [
    "checkouts_df = pd.read_csv(checkout_file)"
   ]
  },
  {
   "cell_type": "code",
   "execution_count": 47,
   "id": "6a4aa751",
   "metadata": {},
   "outputs": [
    {
     "data": {
      "text/html": [
       "<div>\n",
       "<style scoped>\n",
       "    .dataframe tbody tr th:only-of-type {\n",
       "        vertical-align: middle;\n",
       "    }\n",
       "\n",
       "    .dataframe tbody tr th {\n",
       "        vertical-align: top;\n",
       "    }\n",
       "\n",
       "    .dataframe thead th {\n",
       "        text-align: right;\n",
       "    }\n",
       "</style>\n",
       "<table border=\"1\" class=\"dataframe\">\n",
       "  <thead>\n",
       "    <tr style=\"text-align: right;\">\n",
       "      <th></th>\n",
       "      <th>usageclass</th>\n",
       "      <th>checkouttype</th>\n",
       "      <th>materialtype</th>\n",
       "      <th>checkoutyear</th>\n",
       "      <th>checkoutmonth</th>\n",
       "      <th>checkouts</th>\n",
       "      <th>title</th>\n",
       "      <th>creator</th>\n",
       "      <th>subjects</th>\n",
       "      <th>publisher</th>\n",
       "      <th>publicationyear</th>\n",
       "    </tr>\n",
       "  </thead>\n",
       "  <tbody>\n",
       "    <tr>\n",
       "      <th>0</th>\n",
       "      <td>Digital</td>\n",
       "      <td>OverDrive</td>\n",
       "      <td>EBOOK</td>\n",
       "      <td>2018</td>\n",
       "      <td>1</td>\n",
       "      <td>22</td>\n",
       "      <td>Enemy of the State</td>\n",
       "      <td>Vince Flynn</td>\n",
       "      <td>Fiction, Literature, Thriller</td>\n",
       "      <td>Simon &amp; Schuster, Inc.</td>\n",
       "      <td>2017</td>\n",
       "    </tr>\n",
       "    <tr>\n",
       "      <th>1</th>\n",
       "      <td>Digital</td>\n",
       "      <td>Hoopla</td>\n",
       "      <td>TELEVISION</td>\n",
       "      <td>2018</td>\n",
       "      <td>1</td>\n",
       "      <td>1</td>\n",
       "      <td>Newspaper Mom / Cucumber in Rio / Donut Raffle</td>\n",
       "      <td>NaN</td>\n",
       "      <td>Children's</td>\n",
       "      <td>DHX Media</td>\n",
       "      <td>NaN</td>\n",
       "    </tr>\n",
       "    <tr>\n",
       "      <th>2</th>\n",
       "      <td>Physical</td>\n",
       "      <td>Horizon</td>\n",
       "      <td>SOUNDDISC</td>\n",
       "      <td>2018</td>\n",
       "      <td>1</td>\n",
       "      <td>1</td>\n",
       "      <td>Mono / the Mavericks.</td>\n",
       "      <td>Mavericks (Musical group)</td>\n",
       "      <td>Country music 2011 2020</td>\n",
       "      <td>Valory,</td>\n",
       "      <td>[2015]</td>\n",
       "    </tr>\n",
       "    <tr>\n",
       "      <th>3</th>\n",
       "      <td>Digital</td>\n",
       "      <td>OverDrive</td>\n",
       "      <td>EBOOK</td>\n",
       "      <td>2018</td>\n",
       "      <td>1</td>\n",
       "      <td>2</td>\n",
       "      <td>Anna Karenina</td>\n",
       "      <td>Leo Tolstoy</td>\n",
       "      <td>Classic Literature, Fiction, Literature</td>\n",
       "      <td>Penguin Group (USA), Inc.</td>\n",
       "      <td>2009</td>\n",
       "    </tr>\n",
       "    <tr>\n",
       "      <th>4</th>\n",
       "      <td>Digital</td>\n",
       "      <td>OverDrive</td>\n",
       "      <td>EBOOK</td>\n",
       "      <td>2018</td>\n",
       "      <td>1</td>\n",
       "      <td>1</td>\n",
       "      <td>Dragon: Vlad Series, Book 8</td>\n",
       "      <td>Steven Brust</td>\n",
       "      <td>Fantasy, Fiction</td>\n",
       "      <td>Macmillan Publishers</td>\n",
       "      <td>2015</td>\n",
       "    </tr>\n",
       "    <tr>\n",
       "      <th>5</th>\n",
       "      <td>Digital</td>\n",
       "      <td>OverDrive</td>\n",
       "      <td>EBOOK</td>\n",
       "      <td>2018</td>\n",
       "      <td>1</td>\n",
       "      <td>1</td>\n",
       "      <td>Little Dorrit</td>\n",
       "      <td>Charles Dickens</td>\n",
       "      <td>Classic Literature, Fiction, Literature</td>\n",
       "      <td>Random House, Inc.</td>\n",
       "      <td>2012</td>\n",
       "    </tr>\n",
       "    <tr>\n",
       "      <th>6</th>\n",
       "      <td>Digital</td>\n",
       "      <td>OverDrive</td>\n",
       "      <td>EBOOK</td>\n",
       "      <td>2018</td>\n",
       "      <td>1</td>\n",
       "      <td>2</td>\n",
       "      <td>The Inside Out Man</td>\n",
       "      <td>Fred Strydom</td>\n",
       "      <td>Fiction, Horror, Suspense, Thriller</td>\n",
       "      <td>Lightning Source Inc</td>\n",
       "      <td>2017</td>\n",
       "    </tr>\n",
       "    <tr>\n",
       "      <th>7</th>\n",
       "      <td>Physical</td>\n",
       "      <td>Horizon</td>\n",
       "      <td>BOOK</td>\n",
       "      <td>2018</td>\n",
       "      <td>2</td>\n",
       "      <td>1</td>\n",
       "      <td>Spain : a history / edited by Raymond Carr.</td>\n",
       "      <td>NaN</td>\n",
       "      <td>Spain History</td>\n",
       "      <td>Oxford University Press,</td>\n",
       "      <td>2000.</td>\n",
       "    </tr>\n",
       "    <tr>\n",
       "      <th>8</th>\n",
       "      <td>Digital</td>\n",
       "      <td>OverDrive</td>\n",
       "      <td>EBOOK</td>\n",
       "      <td>2018</td>\n",
       "      <td>2</td>\n",
       "      <td>1</td>\n",
       "      <td>Krik? Krak!</td>\n",
       "      <td>Edwidge Danticat</td>\n",
       "      <td>Fiction, Literature, Short Stories</td>\n",
       "      <td>Random House, Inc.</td>\n",
       "      <td>2013</td>\n",
       "    </tr>\n",
       "    <tr>\n",
       "      <th>9</th>\n",
       "      <td>Digital</td>\n",
       "      <td>OverDrive</td>\n",
       "      <td>AUDIOBOOK</td>\n",
       "      <td>2018</td>\n",
       "      <td>2</td>\n",
       "      <td>1</td>\n",
       "      <td>Cleopatra (Unabridged)</td>\n",
       "      <td>H. Rider Haggard</td>\n",
       "      <td>Fiction, Literature</td>\n",
       "      <td>Blackstone Audio, Inc.</td>\n",
       "      <td>2008</td>\n",
       "    </tr>\n",
       "  </tbody>\n",
       "</table>\n",
       "</div>"
      ],
      "text/plain": [
       "  usageclass checkouttype materialtype  checkoutyear  checkoutmonth  \\\n",
       "0    Digital    OverDrive        EBOOK          2018              1   \n",
       "1    Digital       Hoopla   TELEVISION          2018              1   \n",
       "2   Physical      Horizon    SOUNDDISC          2018              1   \n",
       "3    Digital    OverDrive        EBOOK          2018              1   \n",
       "4    Digital    OverDrive        EBOOK          2018              1   \n",
       "5    Digital    OverDrive        EBOOK          2018              1   \n",
       "6    Digital    OverDrive        EBOOK          2018              1   \n",
       "7   Physical      Horizon         BOOK          2018              2   \n",
       "8    Digital    OverDrive        EBOOK          2018              2   \n",
       "9    Digital    OverDrive    AUDIOBOOK          2018              2   \n",
       "\n",
       "   checkouts                                           title  \\\n",
       "0         22                              Enemy of the State   \n",
       "1          1  Newspaper Mom / Cucumber in Rio / Donut Raffle   \n",
       "2          1                           Mono / the Mavericks.   \n",
       "3          2                                   Anna Karenina   \n",
       "4          1                     Dragon: Vlad Series, Book 8   \n",
       "5          1                                   Little Dorrit   \n",
       "6          2                              The Inside Out Man   \n",
       "7          1     Spain : a history / edited by Raymond Carr.   \n",
       "8          1                                     Krik? Krak!   \n",
       "9          1                          Cleopatra (Unabridged)   \n",
       "\n",
       "                     creator                                 subjects  \\\n",
       "0                Vince Flynn            Fiction, Literature, Thriller   \n",
       "1                        NaN                               Children's   \n",
       "2  Mavericks (Musical group)                  Country music 2011 2020   \n",
       "3                Leo Tolstoy  Classic Literature, Fiction, Literature   \n",
       "4               Steven Brust                         Fantasy, Fiction   \n",
       "5            Charles Dickens  Classic Literature, Fiction, Literature   \n",
       "6               Fred Strydom      Fiction, Horror, Suspense, Thriller   \n",
       "7                        NaN                            Spain History   \n",
       "8           Edwidge Danticat       Fiction, Literature, Short Stories   \n",
       "9           H. Rider Haggard                      Fiction, Literature   \n",
       "\n",
       "                   publisher publicationyear  \n",
       "0     Simon & Schuster, Inc.            2017  \n",
       "1                  DHX Media             NaN  \n",
       "2                    Valory,          [2015]  \n",
       "3  Penguin Group (USA), Inc.            2009  \n",
       "4       Macmillan Publishers            2015  \n",
       "5         Random House, Inc.            2012  \n",
       "6       Lightning Source Inc            2017  \n",
       "7   Oxford University Press,           2000.  \n",
       "8         Random House, Inc.            2013  \n",
       "9     Blackstone Audio, Inc.            2008  "
      ]
     },
     "execution_count": 47,
     "metadata": {},
     "output_type": "execute_result"
    }
   ],
   "source": [
    "checkouts_df.head(10)"
   ]
  },
  {
   "cell_type": "code",
   "execution_count": 21,
   "id": "b19ee338",
   "metadata": {},
   "outputs": [],
   "source": [
    "title = checkouts_df[\"title\"]"
   ]
  },
  {
   "cell_type": "markdown",
   "id": "2ec51d92",
   "metadata": {},
   "source": [
    "# How do I select specific columns from a DataFrame?\n",
    "https://pandas.pydata.org/docs/getting_started/intro_tutorials/03_subset_data.html\n"
   ]
  },
  {
   "cell_type": "code",
   "execution_count": 22,
   "id": "9c9a9d62",
   "metadata": {},
   "outputs": [
    {
     "data": {
      "text/plain": [
       "0                                Enemy of the State\n",
       "1    Newspaper Mom / Cucumber in Rio / Donut Raffle\n",
       "2                             Mono / the Mavericks.\n",
       "3                                     Anna Karenina\n",
       "4                       Dragon: Vlad Series, Book 8\n",
       "Name: title, dtype: object"
      ]
     },
     "execution_count": 22,
     "metadata": {},
     "output_type": "execute_result"
    }
   ],
   "source": [
    "title.head()"
   ]
  },
  {
   "cell_type": "code",
   "execution_count": 23,
   "id": "7a6c28c2",
   "metadata": {},
   "outputs": [
    {
     "data": {
      "text/plain": [
       "pandas.core.series.Series"
      ]
     },
     "execution_count": 23,
     "metadata": {},
     "output_type": "execute_result"
    }
   ],
   "source": [
    "type(checkouts_df[\"title\"])"
   ]
  },
  {
   "cell_type": "code",
   "execution_count": 24,
   "id": "874fed1b",
   "metadata": {},
   "outputs": [
    {
     "data": {
      "text/plain": [
       "(10000,)"
      ]
     },
     "execution_count": 24,
     "metadata": {},
     "output_type": "execute_result"
    }
   ],
   "source": [
    "checkouts_df[\"title\"].shape"
   ]
  },
  {
   "cell_type": "code",
   "execution_count": 26,
   "id": "f346371a",
   "metadata": {},
   "outputs": [],
   "source": [
    "title_creator = checkouts_df[[\"title\", \"creator\"]]"
   ]
  },
  {
   "cell_type": "code",
   "execution_count": 41,
   "id": "756eb446",
   "metadata": {},
   "outputs": [
    {
     "data": {
      "text/html": [
       "<div>\n",
       "<style scoped>\n",
       "    .dataframe tbody tr th:only-of-type {\n",
       "        vertical-align: middle;\n",
       "    }\n",
       "\n",
       "    .dataframe tbody tr th {\n",
       "        vertical-align: top;\n",
       "    }\n",
       "\n",
       "    .dataframe thead th {\n",
       "        text-align: right;\n",
       "    }\n",
       "</style>\n",
       "<table border=\"1\" class=\"dataframe\">\n",
       "  <thead>\n",
       "    <tr style=\"text-align: right;\">\n",
       "      <th></th>\n",
       "      <th>title</th>\n",
       "      <th>creator</th>\n",
       "    </tr>\n",
       "  </thead>\n",
       "  <tbody>\n",
       "    <tr>\n",
       "      <th>0</th>\n",
       "      <td>Enemy of the State</td>\n",
       "      <td>Vince Flynn</td>\n",
       "    </tr>\n",
       "    <tr>\n",
       "      <th>1</th>\n",
       "      <td>Newspaper Mom / Cucumber in Rio / Donut Raffle</td>\n",
       "      <td>NaN</td>\n",
       "    </tr>\n",
       "    <tr>\n",
       "      <th>2</th>\n",
       "      <td>Mono / the Mavericks.</td>\n",
       "      <td>Mavericks (Musical group)</td>\n",
       "    </tr>\n",
       "    <tr>\n",
       "      <th>3</th>\n",
       "      <td>Anna Karenina</td>\n",
       "      <td>Leo Tolstoy</td>\n",
       "    </tr>\n",
       "    <tr>\n",
       "      <th>4</th>\n",
       "      <td>Dragon: Vlad Series, Book 8</td>\n",
       "      <td>Steven Brust</td>\n",
       "    </tr>\n",
       "    <tr>\n",
       "      <th>5</th>\n",
       "      <td>Little Dorrit</td>\n",
       "      <td>Charles Dickens</td>\n",
       "    </tr>\n",
       "    <tr>\n",
       "      <th>6</th>\n",
       "      <td>The Inside Out Man</td>\n",
       "      <td>Fred Strydom</td>\n",
       "    </tr>\n",
       "    <tr>\n",
       "      <th>7</th>\n",
       "      <td>Spain : a history / edited by Raymond Carr.</td>\n",
       "      <td>NaN</td>\n",
       "    </tr>\n",
       "    <tr>\n",
       "      <th>8</th>\n",
       "      <td>Krik? Krak!</td>\n",
       "      <td>Edwidge Danticat</td>\n",
       "    </tr>\n",
       "    <tr>\n",
       "      <th>9</th>\n",
       "      <td>Cleopatra (Unabridged)</td>\n",
       "      <td>H. Rider Haggard</td>\n",
       "    </tr>\n",
       "  </tbody>\n",
       "</table>\n",
       "</div>"
      ],
      "text/plain": [
       "                                            title                    creator\n",
       "0                              Enemy of the State                Vince Flynn\n",
       "1  Newspaper Mom / Cucumber in Rio / Donut Raffle                        NaN\n",
       "2                           Mono / the Mavericks.  Mavericks (Musical group)\n",
       "3                                   Anna Karenina                Leo Tolstoy\n",
       "4                     Dragon: Vlad Series, Book 8               Steven Brust\n",
       "5                                   Little Dorrit            Charles Dickens\n",
       "6                              The Inside Out Man               Fred Strydom\n",
       "7     Spain : a history / edited by Raymond Carr.                        NaN\n",
       "8                                     Krik? Krak!           Edwidge Danticat\n",
       "9                          Cleopatra (Unabridged)           H. Rider Haggard"
      ]
     },
     "execution_count": 41,
     "metadata": {},
     "output_type": "execute_result"
    }
   ],
   "source": [
    "title_creator.head(10)"
   ]
  },
  {
   "cell_type": "code",
   "execution_count": 42,
   "id": "e9287197",
   "metadata": {},
   "outputs": [
    {
     "data": {
      "text/plain": [
       "pandas.core.frame.DataFrame"
      ]
     },
     "execution_count": 42,
     "metadata": {},
     "output_type": "execute_result"
    }
   ],
   "source": [
    "type(checkouts_df[[\"title\", \"creator\"]])"
   ]
  },
  {
   "cell_type": "code",
   "execution_count": 45,
   "id": "bba4ca95",
   "metadata": {},
   "outputs": [
    {
     "data": {
      "text/plain": [
       "(10000, 2)"
      ]
     },
     "execution_count": 45,
     "metadata": {},
     "output_type": "execute_result"
    }
   ],
   "source": [
    "checkouts_df[[\"title\", \"creator\"]].shape"
   ]
  }
 ],
 "metadata": {
  "kernelspec": {
   "display_name": "Python 3 (ipykernel)",
   "language": "python",
   "name": "python3"
  },
  "language_info": {
   "codemirror_mode": {
    "name": "ipython",
    "version": 3
   },
   "file_extension": ".py",
   "mimetype": "text/x-python",
   "name": "python",
   "nbconvert_exporter": "python",
   "pygments_lexer": "ipython3",
   "version": "3.9.7"
  }
 },
 "nbformat": 4,
 "nbformat_minor": 5
}
